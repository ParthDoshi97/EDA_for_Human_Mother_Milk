{
 "cells": [
  {
   "cell_type": "code",
   "execution_count": 1,
   "metadata": {},
   "outputs": [],
   "source": [
    "# Load Library \n",
    "import pandas as  pd"
   ]
  },
  {
   "cell_type": "code",
   "execution_count": 18,
   "metadata": {},
   "outputs": [],
   "source": [
    "#  Load All DataSet Frame  \n",
    "NSII_SCFA_Urine = pd.read_csv(\"C:/Users/Parth Doshi/Dropbox/Nutrishield_Study_II_Project (ParthD thesis)/Study2-clean-Data/NUTRISHIELD_Study_II_SCFA_Urine.csv\", sep=\",\")\n",
    "NSII_Qtrap_Targeted_Urine = pd.read_csv(\"C:/Users/Parth Doshi/Dropbox/Nutrishield_Study_II_Project (ParthD thesis)/Study2-clean-Data/NUTRISHIELD_Study_II_QTrap_Targeted.csv\", sep=\",\")\n",
    "NSII_Qtrap_Semiquant_Urine = pd.read_csv(\"C:/Users/Parth Doshi/Dropbox/Nutrishield_Study_II_Project (ParthD thesis)/Study2-clean-Data/NUTRISHIELD_Study_II_QTrap_Semiquant.csv\", sep=\",\")\n",
    "NSII_MIRIS_HM = pd.read_csv(\"C:/Users/Parth Doshi/Dropbox/Nutrishield_Study_II_Project (ParthD thesis)/Study2-clean-Data/NUTRISHIELD_Study_II_MIRIS_HM.csv\", sep=\",\")\n",
    "NSII_FAMES_HM = pd.read_csv(\"C:/Users/Parth Doshi/Dropbox/Nutrishield_Study_II_Project (ParthD thesis)/Study2-clean-Data/NUTRISHIELD_Study_II_FAMES_HM.csv\", sep=\",\")\n",
    "\n",
    "\n",
    "# Create a DataFrame from the dictionary\n",
    "NSII_SCFA_Urine = pd.DataFrame(NSII_SCFA_Urine)"
   ]
  },
  {
   "cell_type": "code",
   "execution_count": 22,
   "metadata": {},
   "outputs": [],
   "source": [
    "# Function to Separate the ID, MOnth, and Type and store them in separate columns for Urine\n",
    "def extract_id_urine(id_str):\n",
    "    separators = ['_', '.']\n",
    "    for sep in separators:\n",
    "        if sep in id_str:\n",
    "            parts = id_str.split(sep)\n",
    "            if len(parts) == 4:\n",
    "                return f\"{parts[0]}.{parts[1]}\", parts[2], parts[3]\n",
    "            return parts[0], parts[1], parts[2]\n",
    "    return id_str, '', ''\n",
    "\n",
    "def extract_id_Milk(id_str):\n",
    "    separators = ['_','.']\n",
    "    for sep in separators:\n",
    "        if sep in id_str:\n",
    "            parts = id_str.split(sep)\n",
    "            return parts[0], parts[1]\n",
    "    return id_str, '', ''\n",
    "\n",
    "\n",
    "\n",
    "\n",
    "\n",
    "# Function To add New Class to the based on Sample  Id  Iither Term Or Pretrem \n",
    "def assign_class(df):\n",
    "    # Check if the column name is \"Samples\" and rename it to \"Sample\" if needed\n",
    "    if \"Samples\" in df.columns and \"Sample\" not in df.columns:\n",
    "        df.rename(columns={\"Samples\": \"Sample\"}, inplace=True)\n",
    "\n",
    "    def get_class(sample_id):\n",
    "        if \"T\" in sample_id and \"MU\" in sample_id:\n",
    "            return \"Term\"\n",
    "        elif \"T\" in sample_id and \"IU\" in sample_id:\n",
    "            return \"Term\"\n",
    "        elif \"P\" in sample_id and \"MU\" in sample_id:\n",
    "            return \"Pre\"\n",
    "        elif \"P\" in sample_id and \"IU\" in sample_id:\n",
    "            return \"Pre\"\n",
    "        else:\n",
    "            return None\n",
    "\n",
    "    if \"Sample\" in df.columns:\n",
    "        df[\"NewClass\"] = df[\"Sample\"].apply(get_class)\n",
    "        return df\n",
    "    else:\n",
    "        print(\"Column name 'Sample' not found in the DataFrame.\")\n",
    "        return None\n"
   ]
  },
  {
   "cell_type": "markdown",
   "metadata": {},
   "source": [
    "SCFA DATA"
   ]
  },
  {
   "cell_type": "code",
   "execution_count": 4,
   "metadata": {},
   "outputs": [],
   "source": [
    "NSII_SCFA_Urine[['ID', 'Month', 'Type']] = NSII_SCFA_Urine['Sample'].apply(lambda x: pd.Series(extract_id(x)))\n",
    "NSII_SCFA_Urine = assign_class(NSII_SCFA_Urine)\n",
    "\n",
    "NSII_SCFA_Urine.to_csv(\"C:/Users/Parth Doshi/Dropbox/Nutrishield_Study_II_Project (ParthD thesis)/Study2_Data_With_Time/NSII_SCFA_Urine.csv\", sep=\",\")"
   ]
  },
  {
   "cell_type": "markdown",
   "metadata": {},
   "source": [
    "Qtrap Targeted Biomarkers"
   ]
  },
  {
   "cell_type": "code",
   "execution_count": 13,
   "metadata": {},
   "outputs": [],
   "source": [
    "NSII_Qtrap_Targeted_Urine[['ID', 'Month', 'Type']] = NSII_Qtrap_Targeted_Urine['Samples'].apply(lambda x: pd.Series(extract_id(x)))\n",
    "NSII_Qtrap_Targeted_Urine = assign_class(NSII_Qtrap_Targeted_Urine)\n",
    "\n",
    "NSII_Qtrap_Targeted_Urine.to_csv(\"C:/Users/Parth Doshi/Dropbox/Nutrishield_Study_II_Project (ParthD thesis)/Study2_Data_With_Time/NSII_Qtrap_Targeted_Urine.csv\", sep=\",\")"
   ]
  },
  {
   "cell_type": "markdown",
   "metadata": {},
   "source": [
    "Qtrap Semiquant Data"
   ]
  },
  {
   "cell_type": "code",
   "execution_count": 15,
   "metadata": {},
   "outputs": [],
   "source": [
    "NSII_Qtrap_Semiquant_Urine[['ID', 'Month', 'Type']] = NSII_Qtrap_Semiquant_Urine['Samples'].apply(lambda x: pd.Series(extract_id_urine(x)))\n",
    "NSII_Qtrap_Semiquant_Urine = assign_class(NSII_Qtrap_Semiquant_Urine)\n",
    "\n",
    "NSII_Qtrap_Semiquant_Urine.to_csv(\"C:/Users/Parth Doshi/Dropbox/Nutrishield_Study_II_Project (ParthD thesis)/Study2_Data_With_Time/NSII_Qtrap_Semiquant_Urine.csv\", sep=\",\")"
   ]
  },
  {
   "cell_type": "markdown",
   "metadata": {},
   "source": [
    "MIRIS Milk DATA"
   ]
  },
  {
   "cell_type": "code",
   "execution_count": null,
   "metadata": {},
   "outputs": [],
   "source": [
    "# Subset the data based on the \"Samples\" column containing \"DHM\"\n",
    "NSII_MIRIS_HM_Subset = NSII_MIRIS_HM[~NSII_MIRIS_HM['Samples'].str.contains('DHM')]\n",
    "\n",
    "NSII_MIRIS_HM_Subset\n",
    "\n",
    "NSII_MIRIS_HM_Subset[[\"ID\",\"MONTH\"]] = NSII_MIRIS_HM_Subset['Samples'].apply(lambda x: pd.Series(extract_id_Milk(x)))\n",
    "NSII_MIRIS_HM_Subset.to_csv(\"C:/Users/Parth Doshi/Dropbox/Nutrishield_Study_II_Project (ParthD thesis)/Study2_Data_With_Time/NSII_MIRIS_HM.csv\",sep=\",\")"
   ]
  },
  {
   "cell_type": "markdown",
   "metadata": {},
   "source": [
    "FAMES MILK DATA"
   ]
  },
  {
   "cell_type": "code",
   "execution_count": 24,
   "metadata": {},
   "outputs": [],
   "source": [
    "NSII_FAMES_HM_Subset = NSII_FAMES_HM[~NSII_FAMES_HM['Samples'].str.contains('PRE|POST')]\n",
    "\n",
    "\n",
    "# Reset the index to avoid index misalignment when assigning new values\n",
    "NSII_FAMES_HM_Subset = NSII_FAMES_HM_Subset.reset_index(drop=True)\n",
    "\n",
    "NSII_FAMES_HM_Subset\n",
    "NSII_FAMES_HM_Subset[[\"ID\", \"MONTH\"]] = NSII_FAMES_HM_Subset['Samples'].apply(lambda x: pd.Series(extract_id_Milk(x)))\n",
    "NSII_FAMES_HM_Subset.to_csv(\"C:/Users/Parth Doshi/Dropbox/Nutrishield_Study_II_Project (ParthD thesis)/Study2_Data_With_Time/NSII_FAMES_HM.csv\",sep=\",\")"
   ]
  }
 ],
 "metadata": {
  "kernelspec": {
   "display_name": "Python 3",
   "language": "python",
   "name": "python3"
  },
  "language_info": {
   "codemirror_mode": {
    "name": "ipython",
    "version": 3
   },
   "file_extension": ".py",
   "mimetype": "text/x-python",
   "name": "python",
   "nbconvert_exporter": "python",
   "pygments_lexer": "ipython3",
   "version": "3.10.7"
  },
  "orig_nbformat": 4
 },
 "nbformat": 4,
 "nbformat_minor": 2
}
